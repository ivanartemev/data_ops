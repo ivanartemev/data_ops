{
 "cells": [
  {
   "cell_type": "code",
   "execution_count": 284,
   "metadata": {},
   "outputs": [
    {
     "name": "stdout",
     "output_type": "stream",
     "text": [
      "am\n"
     ]
    }
   ],
   "source": [
    "##1 задание\n",
    "work = 'programma123'\n",
    "if (len(work) % 2 == 0):\n",
    "   print((work[int(len(work) / 2 - 1)])+(work[int(len(work) / 2)]))\n",
    "elif (len(work) % 2 != 0):\n",
    "    print((work[int(len(work) / 2)]))\n"
   ]
  },
  {
   "cell_type": "code",
   "execution_count": 23,
   "metadata": {},
   "outputs": [
    {
     "name": "stdout",
     "output_type": "stream",
     "text": [
      "1\n",
      "2\n",
      "3\n",
      "4\n",
      "5\n",
      "6\n",
      "7\n",
      "8\n",
      "9\n",
      "0\n",
      "45\n"
     ]
    }
   ],
   "source": [
    "##2 задание\n",
    "\n",
    "chislo = int(input())\n",
    "summa = 0\n",
    "while chislo:\n",
    "    summa += chislo\n",
    "    chislo = int(input())\n",
    "print(summa)"
   ]
  },
  {
   "cell_type": "code",
   "execution_count": 35,
   "metadata": {},
   "outputs": [
    {
     "name": "stdout",
     "output_type": "stream",
     "text": [
      "Идеальная пара:\n",
      "Alex и Emma\n",
      "Arthur и Kate\n",
      "John и Kira\n",
      "Peter и Liza\n",
      "Richard и Trisha\n"
     ]
    }
   ],
   "source": [
    "##3 задание\n",
    "boys = ['Peter', 'Alex', 'John', 'Arthur', 'Richard']\n",
    "girls = ['Kate', 'Liza', 'Kira', 'Emma', 'Trisha']\n",
    "boys = ['Peter','Alex', 'John', 'Arthur', 'Richard']\n",
    "girls = ['Kate', 'Liza', 'Kira', 'Emma', 'Trisha']\n",
    "if len(boys)==len(girls):\n",
    "    print(\"Идеальная пара:\")\n",
    "    boys.sort()\n",
    "    girls.sort()\n",
    "    dating = zip(boys, girls)\n",
    "    for company in dating:\n",
    "        print(f\"{company[0]} и {company[1]}\")\n",
    "else:\n",
    " \n",
    "    print(\"Кто то может остаться без пары\")"
   ]
  },
  {
   "cell_type": "code",
   "execution_count": 33,
   "metadata": {},
   "outputs": [
    {
     "name": "stdout",
     "output_type": "stream",
     "text": [
      "Средняя температура в странах: \n",
      "Thailand - 23.9 C\n",
      "Germany - 13.8 C\n",
      "Russia - 3.7 C\n",
      "Poland - 12.0 C\n"
     ]
    }
   ],
   "source": [
    "##4 задание\n",
    "countries_temperature = [\n",
    "['Thailand', [75.2, 77, 78.8, 73.4, 68, 75.2, 77]],\n",
    "['Germany', [57.2, 55.4, 59, 59, 53.6]],\n",
    "['Russia', [35.6, 37.4, 39.2, 41, 42.8, 39.2, 35.6]],\n",
    "['Poland', [50, 50, 53.6, 57.2, 55.4, 55.4]]\n",
    "]\n",
    "celsius_temperature = list(map(lambda x: [x[0], round((sum(x[1])/len(x[1]) - 32) * (5 / 9), 1)], countries_temperature))\n",
    "\n",
    "print('Средняя температура в странах: ')\n",
    "print (str(celsius_temperature[0][0]) + ' - ' + str(celsius_temperature[0][1]) + ' C')\n",
    "print(str(celsius_temperature[1][0]) + ' - ' + str(celsius_temperature[1][1]) + ' C')\n",
    "print(str(celsius_temperature[2][0]) + ' - ' + str(celsius_temperature[2][1]) + ' C')\n",
    "print(str(celsius_temperature[3][0]) + ' - ' + str(celsius_temperature[3][1]) + ' C')"
   ]
  }
 ],
 "metadata": {
  "kernelspec": {
   "display_name": "Python 3",
   "language": "python",
   "name": "python3"
  },
  "language_info": {
   "codemirror_mode": {
    "name": "ipython",
    "version": 3
   },
   "file_extension": ".py",
   "mimetype": "text/x-python",
   "name": "python",
   "nbconvert_exporter": "python",
   "pygments_lexer": "ipython3",
   "version": "3.8.5"
  }
 },
 "nbformat": 4,
 "nbformat_minor": 4
}
