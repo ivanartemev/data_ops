{
 "cells": [
  {
   "cell_type": "code",
   "execution_count": 1,
   "metadata": {},
   "outputs": [],
   "source": [
    "import pandas as pd"
   ]
  },
  {
   "cell_type": "markdown",
   "metadata": {},
   "source": [
    "# Задание 1"
   ]
  },
  {
   "cell_type": "code",
   "execution_count": 2,
   "metadata": {},
   "outputs": [
    {
     "data": {
      "text/html": [
       "<div>\n",
       "<style scoped>\n",
       "    .dataframe tbody tr th:only-of-type {\n",
       "        vertical-align: middle;\n",
       "    }\n",
       "\n",
       "    .dataframe tbody tr th {\n",
       "        vertical-align: top;\n",
       "    }\n",
       "\n",
       "    .dataframe thead th {\n",
       "        text-align: right;\n",
       "    }\n",
       "</style>\n",
       "<table border=\"1\" class=\"dataframe\">\n",
       "  <thead>\n",
       "    <tr style=\"text-align: right;\">\n",
       "      <th></th>\n",
       "      <th>userId</th>\n",
       "      <th>movieId</th>\n",
       "      <th>rating</th>\n",
       "      <th>timestamp</th>\n",
       "    </tr>\n",
       "  </thead>\n",
       "  <tbody>\n",
       "    <tr>\n",
       "      <th>0</th>\n",
       "      <td>1</td>\n",
       "      <td>1</td>\n",
       "      <td>4.0</td>\n",
       "      <td>964982703</td>\n",
       "    </tr>\n",
       "    <tr>\n",
       "      <th>1</th>\n",
       "      <td>1</td>\n",
       "      <td>3</td>\n",
       "      <td>4.0</td>\n",
       "      <td>964981247</td>\n",
       "    </tr>\n",
       "    <tr>\n",
       "      <th>2</th>\n",
       "      <td>1</td>\n",
       "      <td>6</td>\n",
       "      <td>4.0</td>\n",
       "      <td>964982224</td>\n",
       "    </tr>\n",
       "    <tr>\n",
       "      <th>3</th>\n",
       "      <td>1</td>\n",
       "      <td>47</td>\n",
       "      <td>5.0</td>\n",
       "      <td>964983815</td>\n",
       "    </tr>\n",
       "    <tr>\n",
       "      <th>4</th>\n",
       "      <td>1</td>\n",
       "      <td>50</td>\n",
       "      <td>5.0</td>\n",
       "      <td>964982931</td>\n",
       "    </tr>\n",
       "  </tbody>\n",
       "</table>\n",
       "</div>"
      ],
      "text/plain": [
       "   userId  movieId  rating  timestamp\n",
       "0       1        1     4.0  964982703\n",
       "1       1        3     4.0  964981247\n",
       "2       1        6     4.0  964982224\n",
       "3       1       47     5.0  964983815\n",
       "4       1       50     5.0  964982931"
      ]
     },
     "execution_count": 2,
     "metadata": {},
     "output_type": "execute_result"
    }
   ],
   "source": [
    "ratings = pd.read_csv('C:\\\\Users\\\\Пользователь\\\\Desktop\\\\важно\\\\ml-latest-small\\\\ml-latest-small\\\\ratings.csv')\n",
    "ratings.head()"
   ]
  },
  {
   "cell_type": "code",
   "execution_count": 60,
   "metadata": {},
   "outputs": [
    {
     "name": "stdout",
     "output_type": "stream",
     "text": [
      "<class 'pandas.core.frame.DataFrame'>\n",
      "RangeIndex: 9742 entries, 0 to 9741\n",
      "Data columns (total 3 columns):\n",
      " #   Column   Non-Null Count  Dtype \n",
      "---  ------   --------------  ----- \n",
      " 0   movieId  9742 non-null   int64 \n",
      " 1   title    9742 non-null   object\n",
      " 2   genres   9742 non-null   object\n",
      "dtypes: int64(1), object(2)\n",
      "memory usage: 228.5+ KB\n"
     ]
    }
   ],
   "source": [
    "movies = pd.read_csv('C:\\\\Users\\\\Пользователь\\\\Desktop\\\\важно\\\\ml-latest-small\\\\ml-latest-small\\\\movies.csv')\n",
    "movies.info()"
   ]
  },
  {
   "cell_type": "code",
   "execution_count": 61,
   "metadata": {},
   "outputs": [
    {
     "name": "stdout",
     "output_type": "stream",
     "text": [
      "<class 'pandas.core.frame.DataFrame'>\n",
      "Int64Index: 100836 entries, 0 to 100835\n",
      "Data columns (total 6 columns):\n",
      " #   Column     Non-Null Count   Dtype  \n",
      "---  ------     --------------   -----  \n",
      " 0   userId     100836 non-null  int64  \n",
      " 1   movieId    100836 non-null  int64  \n",
      " 2   rating     100836 non-null  float64\n",
      " 3   timestamp  100836 non-null  int64  \n",
      " 4   title      100836 non-null  object \n",
      " 5   genres     100836 non-null  object \n",
      "dtypes: float64(1), int64(3), object(2)\n",
      "memory usage: 5.4+ MB\n"
     ]
    }
   ],
   "source": [
    "joined = ratings.merge(movies, on='movieId', how='left')\n",
    "joined.info()"
   ]
  },
  {
   "cell_type": "code",
   "execution_count": 50,
   "metadata": {},
   "outputs": [
    {
     "data": {
      "text/html": [
       "<div>\n",
       "<style scoped>\n",
       "    .dataframe tbody tr th:only-of-type {\n",
       "        vertical-align: middle;\n",
       "    }\n",
       "\n",
       "    .dataframe tbody tr th {\n",
       "        vertical-align: top;\n",
       "    }\n",
       "\n",
       "    .dataframe thead th {\n",
       "        text-align: right;\n",
       "    }\n",
       "</style>\n",
       "<table border=\"1\" class=\"dataframe\">\n",
       "  <thead>\n",
       "    <tr style=\"text-align: right;\">\n",
       "      <th></th>\n",
       "      <th>title</th>\n",
       "      <th>rating</th>\n",
       "    </tr>\n",
       "  </thead>\n",
       "  <tbody>\n",
       "    <tr>\n",
       "      <th>3</th>\n",
       "      <td>Seven (a.k.a. Se7en) (1995)</td>\n",
       "      <td>5.0</td>\n",
       "    </tr>\n",
       "    <tr>\n",
       "      <th>4</th>\n",
       "      <td>Usual Suspects, The (1995)</td>\n",
       "      <td>5.0</td>\n",
       "    </tr>\n",
       "    <tr>\n",
       "      <th>6</th>\n",
       "      <td>Bottle Rocket (1996)</td>\n",
       "      <td>5.0</td>\n",
       "    </tr>\n",
       "    <tr>\n",
       "      <th>8</th>\n",
       "      <td>Rob Roy (1995)</td>\n",
       "      <td>5.0</td>\n",
       "    </tr>\n",
       "    <tr>\n",
       "      <th>9</th>\n",
       "      <td>Canadian Bacon (1995)</td>\n",
       "      <td>5.0</td>\n",
       "    </tr>\n",
       "    <tr>\n",
       "      <th>10</th>\n",
       "      <td>Desperado (1995)</td>\n",
       "      <td>5.0</td>\n",
       "    </tr>\n",
       "    <tr>\n",
       "      <th>11</th>\n",
       "      <td>Billy Madison (1995)</td>\n",
       "      <td>5.0</td>\n",
       "    </tr>\n",
       "    <tr>\n",
       "      <th>13</th>\n",
       "      <td>Dumb &amp; Dumber (Dumb and Dumber) (1994)</td>\n",
       "      <td>5.0</td>\n",
       "    </tr>\n",
       "    <tr>\n",
       "      <th>15</th>\n",
       "      <td>Star Wars: Episode IV - A New Hope (1977)</td>\n",
       "      <td>5.0</td>\n",
       "    </tr>\n",
       "    <tr>\n",
       "      <th>18</th>\n",
       "      <td>Tommy Boy (1995)</td>\n",
       "      <td>5.0</td>\n",
       "    </tr>\n",
       "  </tbody>\n",
       "</table>\n",
       "</div>"
      ],
      "text/plain": [
       "                                        title  rating\n",
       "3                 Seven (a.k.a. Se7en) (1995)     5.0\n",
       "4                  Usual Suspects, The (1995)     5.0\n",
       "6                        Bottle Rocket (1996)     5.0\n",
       "8                              Rob Roy (1995)     5.0\n",
       "9                       Canadian Bacon (1995)     5.0\n",
       "10                           Desperado (1995)     5.0\n",
       "11                       Billy Madison (1995)     5.0\n",
       "13     Dumb & Dumber (Dumb and Dumber) (1994)     5.0\n",
       "15  Star Wars: Episode IV - A New Hope (1977)     5.0\n",
       "18                           Tommy Boy (1995)     5.0"
      ]
     },
     "execution_count": 50,
     "metadata": {},
     "output_type": "execute_result"
    }
   ],
   "source": [
    "a = joined[['title', 'rating']]\n",
    "b = a[a.rating == 5.0]\n",
    "b.head(10)"
   ]
  },
  {
   "cell_type": "code",
   "execution_count": 56,
   "metadata": {},
   "outputs": [
    {
     "data": {
      "text/plain": [
       "Shawshank Redemption, The (1994)    153\n",
       "Name: title, dtype: int64"
      ]
     },
     "execution_count": 56,
     "metadata": {},
     "output_type": "execute_result"
    }
   ],
   "source": [
    "b['title'].value_counts().head(1)"
   ]
  },
  {
   "cell_type": "markdown",
   "metadata": {},
   "source": [
    "# Задание 2"
   ]
  },
  {
   "cell_type": "code",
   "execution_count": 52,
   "metadata": {},
   "outputs": [],
   "source": [
    "power = pd.read_csv('C:\\\\Users\\\\Пользователь\\\\Desktop\\\\важно\\\\10._Основы_pandas\\\\power.csv')"
   ]
  },
  {
   "cell_type": "code",
   "execution_count": 53,
   "metadata": {},
   "outputs": [
    {
     "data": {
      "text/html": [
       "<div>\n",
       "<style scoped>\n",
       "    .dataframe tbody tr th:only-of-type {\n",
       "        vertical-align: middle;\n",
       "    }\n",
       "\n",
       "    .dataframe tbody tr th {\n",
       "        vertical-align: top;\n",
       "    }\n",
       "\n",
       "    .dataframe thead th {\n",
       "        text-align: right;\n",
       "    }\n",
       "</style>\n",
       "<table border=\"1\" class=\"dataframe\">\n",
       "  <thead>\n",
       "    <tr style=\"text-align: right;\">\n",
       "      <th></th>\n",
       "      <th>country</th>\n",
       "      <th>year</th>\n",
       "      <th>quantity</th>\n",
       "      <th>category</th>\n",
       "    </tr>\n",
       "  </thead>\n",
       "  <tbody>\n",
       "    <tr>\n",
       "      <th>0</th>\n",
       "      <td>Austria</td>\n",
       "      <td>1996</td>\n",
       "      <td>5.0</td>\n",
       "      <td>1</td>\n",
       "    </tr>\n",
       "    <tr>\n",
       "      <th>1</th>\n",
       "      <td>Austria</td>\n",
       "      <td>1995</td>\n",
       "      <td>17.0</td>\n",
       "      <td>1</td>\n",
       "    </tr>\n",
       "    <tr>\n",
       "      <th>2</th>\n",
       "      <td>Belgium</td>\n",
       "      <td>2014</td>\n",
       "      <td>0.0</td>\n",
       "      <td>1</td>\n",
       "    </tr>\n",
       "    <tr>\n",
       "      <th>3</th>\n",
       "      <td>Belgium</td>\n",
       "      <td>2013</td>\n",
       "      <td>0.0</td>\n",
       "      <td>1</td>\n",
       "    </tr>\n",
       "    <tr>\n",
       "      <th>4</th>\n",
       "      <td>Belgium</td>\n",
       "      <td>2012</td>\n",
       "      <td>35.0</td>\n",
       "      <td>1</td>\n",
       "    </tr>\n",
       "  </tbody>\n",
       "</table>\n",
       "</div>"
      ],
      "text/plain": [
       "   country  year  quantity  category\n",
       "0  Austria  1996       5.0         1\n",
       "1  Austria  1995      17.0         1\n",
       "2  Belgium  2014       0.0         1\n",
       "3  Belgium  2013       0.0         1\n",
       "4  Belgium  2012      35.0         1"
      ]
     },
     "execution_count": 53,
     "metadata": {},
     "output_type": "execute_result"
    }
   ],
   "source": [
    "power.head()"
   ]
  },
  {
   "cell_type": "code",
   "execution_count": 57,
   "metadata": {
    "scrolled": true
   },
   "outputs": [
    {
     "name": "stdout",
     "output_type": "stream",
     "text": [
      "<class 'pandas.core.frame.DataFrame'>\n",
      "RangeIndex: 1189482 entries, 0 to 1189481\n",
      "Data columns (total 4 columns):\n",
      " #   Column    Non-Null Count    Dtype  \n",
      "---  ------    --------------    -----  \n",
      " 0   country   1189482 non-null  object \n",
      " 1   year      1189482 non-null  int64  \n",
      " 2   quantity  1189482 non-null  float64\n",
      " 3   category  1189482 non-null  int64  \n",
      "dtypes: float64(1), int64(2), object(1)\n",
      "memory usage: 36.3+ MB\n"
     ]
    }
   ],
   "source": [
    "power.info()"
   ]
  },
  {
   "cell_type": "code",
   "execution_count": 79,
   "metadata": {},
   "outputs": [
    {
     "data": {
      "text/plain": [
       "240580.0"
      ]
     },
     "execution_count": 79,
     "metadata": {},
     "output_type": "execute_result"
    }
   ],
   "source": [
    "da = power[power.category.isin ([4, 12, 21])]\n",
    "db = da[da.country.isin (['Latvia', 'Lithuania', 'Estonia'])]\n",
    "dc=db[(db['year']>=2005)&(db['year']<=2010)&(db['quantity']>0)]\n",
    "\n",
    "dc.quantity.sum()"
   ]
  },
  {
   "cell_type": "markdown",
   "metadata": {},
   "source": [
    "# Задание 3"
   ]
  },
  {
   "cell_type": "code",
   "execution_count": 82,
   "metadata": {},
   "outputs": [
    {
     "name": "stdout",
     "output_type": "stream",
     "text": [
      "     0       1      2        3       4      5        6       7      8   \\\n",
      "0  ММВБ   3 652  -0,8%   Nasdaq  13 389  -0,1%  Биткойн  57 117   0,6%   \n",
      "1   РТС   1 553  -1,6%   S&P500   4 152  -0,9%    Нефть     685  -0,2%   \n",
      "2   Dow  34 269  -1,4%  FTSE100   6 948  -2,5%   Золото   1 827  -0,5%   \n",
      "\n",
      "        9       10     11  \n",
      "0  USD/RUB  742402   0,1%  \n",
      "1  EUR/RUB  901400   0,1%  \n",
      "2  EUR/USD   12124  -0,2%  \n",
      "<class 'pandas.core.frame.DataFrame'>\n",
      "    Unnamed: 0              Рубль  Предложение  Спрос  Предыдущее закрытие  \\\n",
      "0          NaN            GBP/RUB      1049062      -              1049209   \n",
      "1          NaN            EUR/RUB       900115      -               900933   \n",
      "2          NaN            USD/RUB       743030      -               741896   \n",
      "3          NaN            JPY/RUB        06811      -                06830   \n",
      "4          NaN            CNY/RUB       115335      -               115381   \n",
      "5          NaN            CHF/RUB       820464      -               821308   \n",
      "6          NaN               Евро  Предложение  Спрос  Предыдущее закрытие   \n",
      "7          NaN            EUR/USD        12116      -                12151   \n",
      "8          NaN            EUR/GBP        08582      -                08591   \n",
      "9          NaN            EUR/JPY      1322170      -              1319600   \n",
      "10         NaN            EUR/CHF        10970      -                10981   \n",
      "11         NaN         Доллар США  Предложение  Спрос  Предыдущее закрытие   \n",
      "12         NaN            USD/EUR        08254      -                08231   \n",
      "13         NaN            USD/GBP        07084      -                07070   \n",
      "14         NaN            USD/JPY      1091250      -              1086190   \n",
      "15         NaN            USD/CHF        09058      -                09034   \n",
      "16         NaN      Японская иена  Предложение  Спрос  Предыдущее закрытие   \n",
      "17         NaN    JPY/EUR (100:1)        07600      -                07600   \n",
      "18         NaN            JPY/GBP        00065      -                00065   \n",
      "19         NaN            JPY/USD        00092      -                00092   \n",
      "20         NaN    JPY/CHF (100:1)        08300      -                08300   \n",
      "21         NaN    Фунт стерлингов  Предложение  Спрос  Предыдущее закрытие   \n",
      "22         NaN            GBP/USD        14115      -                14141   \n",
      "23         NaN            GBP/JPY      1540790      -              1536279   \n",
      "24         NaN            GBP/EUR        11651      -                11641   \n",
      "25         NaN            GBP/CHF        12786      -                12772   \n",
      "26         NaN  Швейцарский франк  Предложение  Спрос  Предыдущее закрытие   \n",
      "27         NaN            GBP/CHF        12786      -                12772   \n",
      "28         NaN            EUR/CHF        10970      -                10981   \n",
      "29         NaN    JPY/CHF (100:1)        08300      -                08300   \n",
      "30         NaN            USD/CHF        09058      -                09034   \n",
      "31         NaN  Украинская гривна  Предложение  Спрос  Предыдущее закрытие   \n",
      "32         NaN            EUR/UAH       334876      -               335146   \n",
      "33         NaN            USD/UAH       276403      -               275852   \n",
      "34         NaN            CHF/UAH       305147      -               305416   \n",
      "35         NaN            GBP/UAH       390170      -               390165   \n",
      "\n",
      "          %  Абсолютное значение     Время  \n",
      "0   -0,01 %               -00147  15:44:00  \n",
      "1   -0,09 %               -00818  15:44:00  \n",
      "2    0,15 %                01134  15:44:00  \n",
      "3   -0,28 %               -00019  15:44:00  \n",
      "4   -0,04 %               -00046  15:43:00  \n",
      "5   -0,10 %               -00844  15:44:00  \n",
      "6         %  Абсолютное значение     Время  \n",
      "7   -0,28 %               -00035  15:44:00  \n",
      "8   -0,10 %               -00009  15:44:00  \n",
      "9    0,19 %                02570  15:44:00  \n",
      "10  -0,10 %               -00011  15:44:00  \n",
      "11        %  Абсолютное значение     Время  \n",
      "12   0,28 %                00023  15:44:00  \n",
      "13   0,20 %                00014  15:44:00  \n",
      "14   0,47 %                05060  15:44:00  \n",
      "15   0,26 %                00024  15:44:00  \n",
      "16        %  Абсолютное значение     Время  \n",
      "17  -0,20 %                00000  15:44:00  \n",
      "18  -0,28 %                00000  15:44:00  \n",
      "19  -0,48 %                00000  15:44:00  \n",
      "20  -0,16 %                00000  15:44:00  \n",
      "21        %  Абсолютное значение     Время  \n",
      "22  -0,19 %               -00027  15:44:00  \n",
      "23   0,29 %                04511  15:44:00  \n",
      "24   0,09 %                00010  15:44:00  \n",
      "25   0,11 %                00014  15:44:00  \n",
      "26        %  Абсолютное значение     Время  \n",
      "27   0,11 %                00014  15:44:00  \n",
      "28  -0,10 %               -00011  15:44:00  \n",
      "29  -0,16 %                00000  15:44:00  \n",
      "30   0,26 %                00024  15:44:00  \n",
      "31        %  Абсолютное значение     Время  \n",
      "32  -0,08 %               -00271  15:44:00  \n",
      "33   0,20 %                00551  15:43:00  \n",
      "34  -0,09 %               -00269  15:43:00  \n",
      "35   0,00 %                00005  15:44:00  \n",
      "<class 'pandas.core.frame.DataFrame'>\n",
      "                                                   0  \\\n",
      "0                                      Имя и фамилия   \n",
      "1                                            Телефон   \n",
      "2                                                NaN   \n",
      "3  Я даю согласие на обработку своих персональных...   \n",
      "\n",
      "                                                   1  \\\n",
      "0                                              Город   \n",
      "1                                              Email   \n",
      "2                                                NaN   \n",
      "3  Я даю согласие на обработку своих персональных...   \n",
      "\n",
      "                                                   2  \\\n",
      "0                                                NaN   \n",
      "1                                                NaN   \n",
      "2  Спасибо! Ваша заявка отправлена Финансовый кон...   \n",
      "3                                                NaN   \n",
      "\n",
      "                                                   3  \\\n",
      "0                                                NaN   \n",
      "1                                                NaN   \n",
      "2  Спасибо! Ваша заявка отправлена Финансовый кон...   \n",
      "3                                                NaN   \n",
      "\n",
      "                                                   4  \\\n",
      "0                                                NaN   \n",
      "1                                                NaN   \n",
      "2  ошибка: не удалось создать заявку в журнале за...   \n",
      "3                                                NaN   \n",
      "\n",
      "                                                   5                       6  \\\n",
      "0                                                NaN                     NaN   \n",
      "1                                                NaN                     NaN   \n",
      "2  ошибка: не удалось создать заявку в журнале за...  ошибка: не POST-запрос   \n",
      "3                                                NaN                     NaN   \n",
      "\n",
      "                        7                                                  8  \\\n",
      "0                     NaN                                                NaN   \n",
      "1                     NaN                                                NaN   \n",
      "2  ошибка: не POST-запрос  Просим Вас согласиться на передачу и обработку...   \n",
      "3                     NaN                                                NaN   \n",
      "\n",
      "                                                   9  \n",
      "0                                                NaN  \n",
      "1                                                NaN  \n",
      "2  Просим Вас согласиться на передачу и обработку...  \n",
      "3                                                NaN  \n",
      "<class 'pandas.core.frame.DataFrame'>\n"
     ]
    }
   ],
   "source": [
    "money = pd.read_html('https://www.finanz.ru/valyuty/v-realnom-vremeni', encoding ='utf-8')\n",
    "\n",
    "for i in money:\n",
    "    print(i)\n",
    "    print(type(i))"
   ]
  }
 ],
 "metadata": {
  "kernelspec": {
   "display_name": "Python 3",
   "language": "python",
   "name": "python3"
  },
  "language_info": {
   "codemirror_mode": {
    "name": "ipython",
    "version": 3
   },
   "file_extension": ".py",
   "mimetype": "text/x-python",
   "name": "python",
   "nbconvert_exporter": "python",
   "pygments_lexer": "ipython3",
   "version": "3.8.5"
  }
 },
 "nbformat": 4,
 "nbformat_minor": 4
}
