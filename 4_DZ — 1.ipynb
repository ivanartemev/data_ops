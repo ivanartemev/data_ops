{
 "cells": [
  {
   "cell_type": "code",
   "execution_count": 18,
   "metadata": {},
   "outputs": [
    {
     "name": "stdout",
     "output_type": "stream",
     "text": [
      "Введите номер документа: 11-2\n"
     ]
    },
    {
     "data": {
      "text/plain": [
       "'Владелец документа:  Геннадий Покемонов'"
      ]
     },
     "execution_count": 18,
     "metadata": {},
     "output_type": "execute_result"
    }
   ],
   "source": [
    "documents = [\n",
    "{'type': 'passport', 'number': '2207 876234', 'name': 'Василий Гупкин'},\n",
    "{'type': 'invoice', 'number': '11-2', 'name': 'Геннадий Покемонов'},\n",
    "{'type': 'insurance', 'number': '10006', 'name': 'Аристарх Павлов'}\n",
    "]\n",
    "\n",
    "directories = {\n",
    "'1': ['2207 876234', '11-2'],\n",
    "'2': ['10006'],\n",
    "'3': []\n",
    "}\n",
    "\n",
    "def doc_all():\n",
    "    document_number = input(\"Введите номер документа: \")\n",
    "    for x in documents:\n",
    "        if x['number'] == document_number:\n",
    "            return(f\"Владелец документа:  {x['name']}\")\n",
    "    print('Документ не найден в базе')\n",
    "\n",
    "doc_all()"
   ]
  },
  {
   "cell_type": "code",
   "execution_count": 19,
   "metadata": {},
   "outputs": [
    {
     "name": "stdout",
     "output_type": "stream",
     "text": [
      "Введите номер документа: 45\n"
     ]
    },
    {
     "data": {
      "text/plain": [
       "'Документ не найден в базе'"
      ]
     },
     "execution_count": 19,
     "metadata": {},
     "output_type": "execute_result"
    }
   ],
   "source": [
    "def shelf_all():\n",
    "    document_number = input(\"Введите номер документа: \")\n",
    "    for b in directories:\n",
    "        if document_number in directories[b]:\n",
    "            return('Документ хранится на полке: ' + b)\n",
    "    return('Документ не найден в базе')\n",
    "\n",
    "shelf_all()"
   ]
  },
  {
   "cell_type": "code",
   "execution_count": 20,
   "metadata": {},
   "outputs": [
    {
     "name": "stdout",
     "output_type": "stream",
     "text": [
      "№: 2207 876234, тип: passport, владелец: Василий Гупкин, полка хранения: 1\n",
      "№: 11-2, тип: invoice, владелец: Геннадий Покемонов, полка хранения: 1\n",
      "№: 10006, тип: insurance, владелец: Аристарх Павлов, полка хранения: 2\n"
     ]
    }
   ],
   "source": [
    "def list_all():\n",
    "    for shelf in directories:\n",
    "        for num in directories[shelf]:\n",
    "            found = next(e for e in documents if e['number']==num)\n",
    "            print(f'№: {num}, тип: {found[\"type\"]}, владелец: {found[\"name\"]}, полка хранения: {shelf}')\n",
    "        \n",
    "list_all()"
   ]
  },
  {
   "cell_type": "code",
   "execution_count": 21,
   "metadata": {},
   "outputs": [
    {
     "name": "stdout",
     "output_type": "stream",
     "text": [
      "Введите номер полки: 5\n"
     ]
    },
    {
     "data": {
      "text/plain": [
       "'Полка добавлена. Текущий перечень полок: 1, 2, 3, 5'"
      ]
     },
     "execution_count": 21,
     "metadata": {},
     "output_type": "execute_result"
    }
   ],
   "source": [
    "def add_shelf():\n",
    "    number = input(\"Введите номер полки: \")\n",
    "    x = directories.keys()\n",
    "    if number in x:\n",
    "        return('Такая полка уже существует. Текущий перечень полок: ' + ', ' .join (x))\n",
    "    else: \n",
    "        directories[number] = []\n",
    "        return ('Полка добавлена. Текущий перечень полок: ' + ', ' .join (x))\n",
    "        \n",
    "add_shelf()"
   ]
  },
  {
   "cell_type": "code",
   "execution_count": 24,
   "metadata": {},
   "outputs": [
    {
     "name": "stdout",
     "output_type": "stream",
     "text": [
      "Введите номер документа, который хотите удалить: \n"
     ]
    },
    {
     "data": {
      "text/plain": [
       "'Такой полки не существует. Текущий перечень полок: 1, 2, 3'"
      ]
     },
     "execution_count": 24,
     "metadata": {},
     "output_type": "execute_result"
    }
   ],
   "source": [
    "def del_shelf():\n",
    "    x = directories.keys()\n",
    "    doc_number = input(\"Введите номер документа, который хотите удалить: \")\n",
    "    if directories.get(doc_number) == []:\n",
    "        del directories[doc_number]\n",
    "        return ('Полка удалена. Текущий перечень полок: ' + ', ' .join (x))\n",
    "    elif doc_number not in x:\n",
    "        return ('Такой полки не существует. Текущий перечень полок: ' + ', ' .join (x))\n",
    "    else:\n",
    "        return ('На полке есть документы, удалите их перед удалением полки. Текущий перечень полок: ' + ', ' .join (x))\n",
    "    \n",
    "del_shelf()"
   ]
  },
  {
   "cell_type": "code",
   "execution_count": 25,
   "metadata": {},
   "outputs": [
    {
     "name": "stdout",
     "output_type": "stream",
     "text": [
      "Введите команду: ads\n",
      "Введите номер полки: 3\n",
      "Такая полка уже существует. Текущий перечень полок: 1, 2, 3\n",
      "Введите команду: ads\n",
      "Введите номер полки: 5\n",
      "Полка добавлена. Текущий перечень полок: 1, 2, 3, 5\n",
      "Введите команду: q\n",
      "Работа окончена.\n"
     ]
    }
   ],
   "source": [
    "def main ():\n",
    "    command_dict = {\n",
    "        'p': doc_all,\n",
    "        's': shelf_all,\n",
    "        'l': list_all,\n",
    "        'ads': add_shelf,\n",
    "        'ds': del_shelf\n",
    "    }\n",
    "    \n",
    "    while True:\n",
    "        command_request = input(\"Введите команду: \")\n",
    "        if command_request in command_dict:\n",
    "            res = command_dict[command_request]()\n",
    "            print(res)\n",
    "        elif command_request == \"q\":\n",
    "            print('Работа окончена.')\n",
    "            break\n",
    "            \n",
    "main()"
   ]
  },
  {
   "cell_type": "code",
   "execution_count": null,
   "metadata": {},
   "outputs": [],
   "source": []
  }
 ],
 "metadata": {
  "kernelspec": {
   "display_name": "Python 3",
   "language": "python",
   "name": "python3"
  },
  "language_info": {
   "codemirror_mode": {
    "name": "ipython",
    "version": 3
   },
   "file_extension": ".py",
   "mimetype": "text/x-python",
   "name": "python",
   "nbconvert_exporter": "python",
   "pygments_lexer": "ipython3",
   "version": "3.8.5"
  }
 },
 "nbformat": 4,
 "nbformat_minor": 4
}
