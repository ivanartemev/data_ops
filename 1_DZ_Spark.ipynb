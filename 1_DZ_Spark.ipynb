{
 "cells": [
  {
   "cell_type": "code",
   "execution_count": 9,
   "metadata": {},
   "outputs": [],
   "source": [
    "import pandas as pd"
   ]
  },
  {
   "cell_type": "code",
   "execution_count": 10,
   "metadata": {},
   "outputs": [],
   "source": [
    "s = pd.read_csv(\"C:\\Windows\\System32\\movies.csv\", usecols=[1], squeeze=True)\n",
    "# Аргумент usecols использует вторую \"колонку\" в csv файле\n",
    "# squeeze обращает полученную из csv-файла колонку в объект pandas Series\n",
    "res = s.str.replace(r\"\\(.+\\)\",\"\", regex=True).str.extractall(\"(\\S+)\").reset_index()[0].value_counts()\n",
    "# Команда .replace(r\"\\(.+\\)\",\"\", regex=True) удаляет год из названия фильма"
   ]
  },
  {
   "cell_type": "code",
   "execution_count": 11,
   "metadata": {},
   "outputs": [
    {
     "data": {
      "text/plain": [
       "The         2192\n",
       "the          989\n",
       "of           973\n",
       "and          349\n",
       "in           263\n",
       "            ... \n",
       "Exposure       1\n",
       "Redline        1\n",
       "Piece,         1\n",
       "Fraktus        1\n",
       "Welt           1\n",
       "Name: 0, Length: 9125, dtype: int64"
      ]
     },
     "execution_count": 11,
     "metadata": {},
     "output_type": "execute_result"
    }
   ],
   "source": [
    "res"
   ]
  }
 ],
 "metadata": {
  "kernelspec": {
   "display_name": "Python 3",
   "language": "python",
   "name": "python3"
  },
  "language_info": {
   "codemirror_mode": {
    "name": "ipython",
    "version": 3
   },
   "file_extension": ".py",
   "mimetype": "text/x-python",
   "name": "python",
   "nbconvert_exporter": "python",
   "pygments_lexer": "ipython3",
   "version": "3.8.5"
  }
 },
 "nbformat": 4,
 "nbformat_minor": 4
}
