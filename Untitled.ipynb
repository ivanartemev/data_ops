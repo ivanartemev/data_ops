{
 "cells": [
  {
   "cell_type": "code",
   "execution_count": 6,
   "metadata": {},
   "outputs": [
    {
     "data": {
      "text/plain": [
       "True"
      ]
     },
     "execution_count": 6,
     "metadata": {},
     "output_type": "execute_result"
    }
   ],
   "source": [
    "## 1 задание\n",
    "phrase_1 = 'Большинство производитей программного обеспечения регулярно вносят доработки в свои продукты'\n",
    "phrase_2 = 'Доработки содержат улучшенные алгоритмы, исправления выявленных ошибок и прочее'\n",
    "len(phrase_1) > len(phrase_2)"
   ]
  },
  {
   "cell_type": "code",
   "execution_count": 10,
   "metadata": {},
   "outputs": [
    {
     "name": "stdout",
     "output_type": "stream",
     "text": [
      "1520  - високосный год\n"
     ]
    }
   ],
   "source": [
    "## 2 задание\n",
    "year = 1520\n",
    "if year % 4 ==0:\n",
    "    print(year, ' - високосный год')\n",
    "else:\n",
    "    print(year, ' - обычный год')"
   ]
  },
  {
   "cell_type": "code",
   "execution_count": 20,
   "metadata": {},
   "outputs": [
    {
     "name": "stdout",
     "output_type": "stream",
     "text": [
      "Введите день рождения:12\n",
      "Введите месяц рождения:Май\n",
      "Знак зодиака:Телец\n"
     ]
    }
   ],
   "source": [
    "## 3 задание\n",
    "## Знаки зодиака\n",
    "date = 1\n",
    "date = 2\n",
    "date = 3\n",
    "date = 4\n",
    "date = 5\n",
    "date = 6\n",
    "date = 7\n",
    "date = 8\n",
    "date = 9\n",
    "date = 10\n",
    "date = 11\n",
    "date = 12\n",
    "date = 13\n",
    "date = 14\n",
    "date = 15\n",
    "date = 16\n",
    "date = 17\n",
    "date = 18\n",
    "date = 19\n",
    "date = 20\n",
    "date = 21\n",
    "date = 22\n",
    "date = 23\n",
    "date = 24\n",
    "date = 25\n",
    "date = 26\n",
    "date = 27\n",
    "date = 28\n",
    "date = 29\n",
    "date = 30\n",
    "date = 31\n",
    "\n",
    "month = 'Январь'\n",
    "month = 'Февраль'\n",
    "month = 'Март'\n",
    "month = 'Апрель'\n",
    "month = 'Май'\n",
    "month = 'Июнь'\n",
    "month = 'Июль'\n",
    "month = 'Август'\n",
    "month = 'Сентябрь'\n",
    "month = 'Октябрь'\n",
    "month = 'Ноябрь'\n",
    "month = 'Декабрь'\n",
    "\n",
    "\n",
    "date = int(input('Введите день рождения:'))\n",
    "\n",
    "month = str(input('Введите месяц рождения:'))\n",
    "\n",
    "\n",
    "if (date>=21 and date<=31 and month=='Март') or( month=='Апрель' and date>=1 and date<=19):\n",
    "\n",
    "   print(\"Знак зодиака:Овен\")\n",
    "\n",
    "elif (date>=20 and date<=30 and month=='Апрель') or( month=='Май' and date>=1 and date<=20):\n",
    "\n",
    "   print(\"Знак зодиака:Телец\")\n",
    "\n",
    "elif (date>=21 and date<=31 and month=='Май') or( month=='Июнь' and date>=1 and date<=21):\n",
    "\n",
    "   print(\"Знак зодиака:Близнецы\")\n",
    "\n",
    "elif (date>=22 and date<=30 and month=='Июнь') or( month=='Июль' and date>=1 and date<=22):\n",
    "\n",
    "   print(\"Знак зодиака:Рак\")\n",
    "\n",
    "elif (date>=23 and date<=31 and month=='Июль') or( month=='Август' and date>=1 and date<=22):\n",
    "\n",
    "   print(\"Знак зодиака:Лев\")\n",
    "\n",
    "elif (date>=23 and date<=31 and month=='Август') or( month=='Сентябрь' and date>=1 and date<=22):\n",
    "\n",
    "   print(\"Знак зодиака:Дева\")\n",
    "\n",
    "elif (date>=23 and date<=30 and month=='Сентябрь') or( month=='Октябрь' and date>=1 and date<=23):\n",
    "\n",
    "   print(\"Знак зодиака:Весы\")\n",
    "\n",
    "elif (date>=24 and date<=31 and month=='Октябрь') or( month=='Ноябрь' and date>=1 and date<=22):\n",
    "\n",
    "   print(\"Знак зодиака:Скорпион\")\n",
    "\n",
    "elif (date>=23 and date<=30 and month=='Ноябрь') or( month=='Декабрь' and date>=1 and date<=21):\n",
    "\n",
    "   print(\"Знак зодиака:Стрелец\")\n",
    "\n",
    "elif (date>=22 and date<=31 and month=='Декабрь') or( month=='Январь' and date>=1 and date<=20):\n",
    "\n",
    "   print(\"Знак зодиака:Козерог\")\n",
    "\n",
    "elif (date>=21 and date<=31 and month=='Январь') or( month=='Февраль' and date>=1 and date<=18):\n",
    "\n",
    "   print(\"Знак зодиака:Водолей\")\n",
    "\n",
    "elif (date>=19 and date<=29 and month=='Февраль') or( month=='Март' and date>=1 and date<=20):\n",
    "\n",
    "   print(\"Знак зодиака:Рыбы\")"
   ]
  },
  {
   "cell_type": "code",
   "execution_count": 15,
   "metadata": {},
   "outputs": [
    {
     "name": "stdout",
     "output_type": "stream",
     "text": [
      "Упаковка для лыж\n"
     ]
    }
   ],
   "source": [
    "## 4 задание\n",
    "width = 10\n",
    "length = 205\n",
    "height = 5\n",
    "\n",
    "if width < 15 and length < 15 and height < 15:\n",
    "    print('Коробка №1')\n",
    "elif (width > 15 and width < 50) or (length > 15 and length < 50)  or (height > 15 and height < 50):\n",
    "    print('Коробка №2')\n",
    "elif length > (2 * 100):\n",
    "    print('Упаковка для лыж')\n",
    "else: print('Стандартная коробка №3')"
   ]
  }
 ],
 "metadata": {
  "kernelspec": {
   "display_name": "Python 3",
   "language": "python",
   "name": "python3"
  },
  "language_info": {
   "codemirror_mode": {
    "name": "ipython",
    "version": 3
   },
   "file_extension": ".py",
   "mimetype": "text/x-python",
   "name": "python",
   "nbconvert_exporter": "python",
   "pygments_lexer": "ipython3",
   "version": "3.8.5"
  }
 },
 "nbformat": 4,
 "nbformat_minor": 4
}
