{
 "cells": [
  {
   "cell_type": "code",
   "execution_count": 2,
   "metadata": {},
   "outputs": [],
   "source": [
    "from sklearn import datasets\n",
    "from matplotlib import pyplot as plt\n",
    "%matplotlib inline\n",
    "import numpy as np\n",
    "from jupyterthemes import jtplot\n",
    "jtplot.style()"
   ]
  },
  {
   "cell_type": "code",
   "execution_count": 3,
   "metadata": {},
   "outputs": [],
   "source": [
    "iris = datasets.load_iris()"
   ]
  },
  {
   "cell_type": "code",
   "execution_count": 5,
   "metadata": {},
   "outputs": [
    {
     "name": "stdout",
     "output_type": "stream",
     "text": [
      "['setosa' 'versicolor' 'virginica']\n"
     ]
    }
   ],
   "source": [
    "print(iris.target_names)"
   ]
  },
  {
   "cell_type": "code",
   "execution_count": 6,
   "metadata": {},
   "outputs": [
    {
     "name": "stdout",
     "output_type": "stream",
     "text": [
      "['sepal length (cm)', 'sepal width (cm)', 'petal length (cm)', 'petal width (cm)']\n"
     ]
    }
   ],
   "source": [
    "print(iris.feature_names)"
   ]
  },
  {
   "cell_type": "code",
   "execution_count": 7,
   "metadata": {},
   "outputs": [
    {
     "name": "stdout",
     "output_type": "stream",
     "text": [
      "[0 0 0 0 0 0 0 0 0 0 0 0 0 0 0 0 0 0 0 0 0 0 0 0 0 0 0 0 0 0 0 0 0 0 0 0 0\n",
      " 0 0 0 0 0 0 0 0 0 0 0 0 0 1 1 1 1 1 1 1 1 1 1 1 1 1 1 1 1 1 1 1 1 1 1 1 1\n",
      " 1 1 1 1 1 1 1 1 1 1 1 1 1 1 1 1 1 1 1 1 1 1 1 1 1 1]\n"
     ]
    }
   ],
   "source": [
    "X = []\n",
    "Y = []\n",
    "for idx, item in enumerate(iris.target):\n",
    "    if item != 0:\n",
    "        X.append(iris.data[idx])\n",
    "        Y.append(item-1)\n",
    "\n",
    "X = np.asarray(X)\n",
    "Y = np.asarray(Y)\n",
    "print(Y)"
   ]
  },
  {
   "cell_type": "code",
   "execution_count": 8,
   "metadata": {},
   "outputs": [
    {
     "data": {
      "text/plain": [
       "(100, 4)"
      ]
     },
     "execution_count": 8,
     "metadata": {},
     "output_type": "execute_result"
    }
   ],
   "source": [
    "X.shape"
   ]
  },
  {
   "cell_type": "code",
   "execution_count": 9,
   "metadata": {},
   "outputs": [],
   "source": [
    "def predict(theta, X):\n",
    "    predict = theta[0] + theta[1] * X[:, 0] + theta[2] * X[:, 1] + theta[3] * X[:, 2] + theta[4] * X[:, 3]\n",
    "    sigm = 1. / (1 + np.exp(-predict))\n",
    "    return sigm"
   ]
  },
  {
   "cell_type": "code",
   "execution_count": 10,
   "metadata": {},
   "outputs": [
    {
     "name": "stdout",
     "output_type": "stream",
     "text": [
      "[-0.66556365, -1.46787087, -0.21254648, -0.14877584, 2.22796437]\n",
      "[-0.6406057403179901, -1.303421937843693, -0.13831619591105637, -0.01018059072036226, 2.2785378228425044]\n",
      "[-0.6159155739594111, -1.1406071676700416, -0.06486335127016309, 0.1270669617776886, 2.328601092851893]\n",
      "[-0.5931042678918174, -0.9894879279355133, 0.0030538872844340786, 0.2546260534021556, 2.374992070424903]\n",
      "[-0.5785549773869387, -0.8907476248744525, 0.04654776418366293, 0.3391431596429527, 2.4054763069748857]\n",
      "[-0.5750077270803925, -0.8622515140133977, 0.05784074431301905, 0.36704547738188426, 2.4160235243413286]\n",
      "[-0.575211804118447, -0.8576193070467582, 0.058261523447176784, 0.37603550629107524, 2.420129525524356]\n",
      "[-0.5762360889507209, -0.8581974542745464, 0.0563126135215557, 0.38091315394991704, 2.422846883828909]\n",
      "[-0.5774434253046535, -0.8599442516212177, 0.05383452737137504, 0.3848611422658401, 2.4252495158659917]\n",
      "[-0.5786911400581409, -0.861955409926495, 0.05123900008332694, 0.3885903533888865, 2.427576682023114]\n",
      "[-0.579946600820652, -0.8640241189625921, 0.04862018690992263, 0.3922633299975921, 2.429883062360559]\n",
      "[-0.5812022918109351, -0.866102728487821, 0.045999775526841716, 0.395917548848607, 2.432181268140994]\n",
      "[-0.5824564794118254, -0.8681802268910089, 0.04338277160076503, 0.3995616995795741, 2.434474229178306]\n",
      "[-0.5837087665393983, -0.8702540714392238, 0.04077032481024093, 0.40319781782497865, 2.4367626375700158]\n",
      "[-0.584959065955346, -0.8723236827820013, 0.03816269088806009, 0.4068263964735556, 2.439046666578305]\n",
      "[-0.5862073624336814, -0.8743889379539889, 0.03555991778233771, 0.4104475696874094, 2.441326368794229]\n",
      "[-0.5874536575148565, -0.8764498203179452, 0.03296200504447294, 0.41406138793629427, 2.4436017686245974]\n",
      "[-0.5886979566385363, -0.8785063380336553, 0.030368940952246917, 0.4176678820559269, 2.4458728838328128]\n",
      "[-0.5899402661388136, -0.8805585050185833, 0.02778071117907444, 0.42126707820746084, 2.4481397305693635]\n",
      "[-0.5911805925407061, -0.8826063364902031, 0.025197300823853797, 0.4248590013803001, 2.4504023245499065]\n",
      "[-0.5924189423950469, -0.884649847919748, 0.022618694887498417, 0.4284436762145881, 2.452660681332079]\n",
      "[-0.5936553222396638, -0.8866890547861662, 0.020044878385106685, 0.4320211271949811, 2.4549148163809114]\n",
      "[-0.5948897385902607, -0.8887239725182691, 0.017475836372437433, 0.4355913786965604, 2.4571647450845178]\n",
      "[-0.5961221979383032, -0.8907546164812534, 0.014911553952176432, 0.4391544549958826, 2.459410482758067]\n",
      "[-0.5973527067505602, -0.8927810019737153, 0.012352016275422512, 0.4427103802737894, 2.4616520446449783]\n",
      "[-0.5985812714690388, -0.894803144227149, 0.009797208542038159, 0.4462591786162662, 2.463889445917463]\n",
      "[-0.5998078985110136, -0.8968210584060377, 0.007247116000727434, 0.449800874014839, 2.466122701676906]\n",
      "[-0.601032594269078, -0.8988347596080842, 0.004701723949046546, 0.4533354903668628, 2.468351826954211]\n",
      "[-0.6022553651112028, -0.900844262864476, 0.0021610177333957607, 0.45686305147578604, 2.4705768367101366]\n",
      "[-0.6034762173807957, -0.9028495831401571, -0.00037501725099553214, 0.4603835810514103, 2.472797745835628]\n",
      "[-0.6046951573967622, -0.9048507353341024, -0.002906395560087953, 0.46389710271015144, 2.4750145691521475]\n",
      "[-0.6059121914535672, -0.9068477342795926, -0.005433131701054463, 0.4674036399753016, 2.4772273214120064]\n",
      "[-0.6071273258212977, -0.908840594744488, -0.007955240132305808, 0.47090321627729365, 2.479436017298693]\n",
      "[-0.6083405667457247, -0.9108293314315026, -0.010472735263519151, 0.4743958549539672, 2.481640671427201]\n",
      "[-0.6095519204483677, -0.9128139589784788, -0.012985631455669552, 0.47788157925083646, 2.4838412983443576]\n",
      "[-0.6107613931265582, -0.9147944919586604, -0.015493943021064199, 0.4813604123213602, 2.4860379125291496]\n",
      "[-0.6119689909535047, -0.916770944880966, -0.017997684223379787, 0.48483237722721295, 2.48823052839305]\n",
      "[-0.6131747200783574, -0.9187433321902626, -0.020496869277702393, 0.4882974969385585, 2.4904191602803416]\n",
      "[-0.6143785866262745, -0.9207116682676377, -0.022991512350570245, 0.4917557943343244, 2.4926038224684426]\n",
      "[-0.6155805966984884, -0.9226759674306724, -0.025481627560019177, 0.49520729220247833, 2.494784529168228]\n",
      "[-0.6167807563723721, -0.9246362439337128, -0.027967228975630514, 0.49865201324030606, 2.4969612945243522]\n",
      "[-0.6179790717015068, -0.9265925119681422, -0.030448330618581723, 0.5020899800546909, 2.4991341326155707]\n",
      "[-0.6191755487157498, -0.9285447856626522, -0.03292494646169956, 0.5055212151623939, 2.5013030574550594]\n",
      "[-0.6203701934213022, -0.9304930790835136, -0.03539709042951558, 0.5089457409903367, 2.5034680829907345]\n",
      "[-0.6215630118007781, -0.9324374062348469, -0.03786477639832414, 0.5123635798758844, 2.50562922310557]\n",
      "[-0.6227540098132737, -0.9343777810588925, -0.04032801819624279, 0.5157747540671302, 2.5077864916179142]\n",
      "[-0.6239431933944364, -0.9363142174362797, -0.04278682960327489, 0.5191792857231816, 2.5099399022818085]\n",
      "[-0.6251305684565351, -0.9382467291862969, -0.04524122435137455, 0.5225771969144469, 2.5120894687872997]\n",
      "[-0.6263161408885307, -0.9401753300671591, -0.047691216124513804, 0.5259685096229241, 2.514235204760755]\n",
      "[-0.6274999165561463, -0.9421000337762769, -0.05013681855875196, 0.5293532457424891, 2.5163771237651753]\n",
      "[-0.6286819013019389, -0.9440208539505237, -0.052578045242307025, 0.532731427079187, 2.5185152393005077]\n"
     ]
    }
   ],
   "source": [
    "lr = 0.05\n",
    "theta = []\n",
    "theta = [-0.66556365, -1.46787087, -0.21254648, -0.14877584,  2.22796437]\n",
    "print(theta)\n",
    "grad_loss_hist = []\n",
    "for _ in range(50):\n",
    "    sigm = predict(theta, X)\n",
    "    theta[0] -= lr * np.sum(sigm - Y)/len(sigm)\n",
    "    theta[1] -= lr * np.sum((sigm - Y) * X[:, 0])/len(sigm)\n",
    "    theta[2] -= lr * np.sum((sigm - Y) * X[:, 1])/len(sigm)\n",
    "    theta[3] -= lr * np.sum((sigm - Y) * X[:, 2])/len(sigm)\n",
    "    theta[4] -= lr * np.sum((sigm - Y) * X[:, 3])/len(sigm)\n",
    "    loss = - np.mean(np.log(sigm) * Y + np.log(1 - sigm) * (1 - Y))\n",
    "    print(theta)\n",
    "    grad_loss_hist.append(loss)"
   ]
  },
  {
   "cell_type": "code",
   "execution_count": 11,
   "metadata": {},
   "outputs": [
    {
     "data": {
      "text/plain": [
       "[3.6409214614271534,\n",
       " 2.5457892818334145,\n",
       " 1.4957100799283896,\n",
       " 0.6950316057571198,\n",
       " 0.42846166556362875,\n",
       " 0.4057504315257441,\n",
       " 0.4040406266299081,\n",
       " 0.403348459975539,\n",
       " 0.40271071328494484,\n",
       " 0.4020782152314406,\n",
       " 0.4014483619568564,\n",
       " 0.40082100184525177,\n",
       " 0.4001961140921525,\n",
       " 0.3995736849941099,\n",
       " 0.39895370130947216,\n",
       " 0.3983361498996764,\n",
       " 0.3977210177093287,\n",
       " 0.397108291764639,\n",
       " 0.39649795917285346,\n",
       " 0.3958900071217424,\n",
       " 0.39528442287909377,\n",
       " 0.3946811937922075,\n",
       " 0.3940803072873937,\n",
       " 0.39348175086947196,\n",
       " 0.3928855121212741,\n",
       " 0.3922915787031481,\n",
       " 0.39169993835246614,\n",
       " 0.39111057888313205,\n",
       " 0.3905234881850951,\n",
       " 0.3899386542238626,\n",
       " 0.38935606504001646,\n",
       " 0.3887757087487328,\n",
       " 0.3881975735393028,\n",
       " 0.3876216476746558,\n",
       " 0.38704791949088685,\n",
       " 0.38647637739678375,\n",
       " 0.3859070098733584,\n",
       " 0.3853398054733813,\n",
       " 0.38477475282091544,\n",
       " 0.38421184061085645,\n",
       " 0.383651057608472,\n",
       " 0.383092392648946,\n",
       " 0.3825358346369231,\n",
       " 0.3819813725460575,\n",
       " 0.38142899541856373,\n",
       " 0.3808786923647689,\n",
       " 0.38033045256266823,\n",
       " 0.3797842652574832,\n",
       " 0.37924011976122246,\n",
       " 0.37869800545224314]"
      ]
     },
     "execution_count": 11,
     "metadata": {},
     "output_type": "execute_result"
    }
   ],
   "source": [
    "grad_loss_hist"
   ]
  },
  {
   "cell_type": "code",
   "execution_count": 12,
   "metadata": {},
   "outputs": [
    {
     "data": {
      "text/plain": [
       "7"
      ]
     },
     "execution_count": 12,
     "metadata": {},
     "output_type": "execute_result"
    }
   ],
   "source": [
    "err = 0\n",
    "for idx, item in enumerate(np.around(predict(theta, X))):\n",
    "    if item != Y[idx]:\n",
    "        err += 1\n",
    "err"
   ]
  },
  {
   "cell_type": "code",
   "execution_count": 13,
   "metadata": {},
   "outputs": [
    {
     "data": {
      "text/plain": [
       "matrix([[0., 0.],\n",
       "        [0., 0.],\n",
       "        [0., 0.],\n",
       "        [0., 0.],\n",
       "        [0., 0.],\n",
       "        [0., 0.],\n",
       "        [0., 0.],\n",
       "        [0., 0.],\n",
       "        [0., 0.],\n",
       "        [0., 0.],\n",
       "        [0., 0.],\n",
       "        [0., 0.],\n",
       "        [0., 0.],\n",
       "        [0., 0.],\n",
       "        [0., 0.],\n",
       "        [0., 0.],\n",
       "        [1., 0.],\n",
       "        [0., 0.],\n",
       "        [0., 0.],\n",
       "        [0., 0.],\n",
       "        [1., 0.],\n",
       "        [0., 0.],\n",
       "        [0., 0.],\n",
       "        [0., 0.],\n",
       "        [0., 0.],\n",
       "        [0., 0.],\n",
       "        [0., 0.],\n",
       "        [0., 0.],\n",
       "        [0., 0.],\n",
       "        [0., 0.],\n",
       "        [0., 0.],\n",
       "        [0., 0.],\n",
       "        [0., 0.],\n",
       "        [1., 0.],\n",
       "        [1., 0.],\n",
       "        [0., 0.],\n",
       "        [0., 0.],\n",
       "        [0., 0.],\n",
       "        [0., 0.],\n",
       "        [0., 0.],\n",
       "        [0., 0.],\n",
       "        [0., 0.],\n",
       "        [0., 0.],\n",
       "        [0., 0.],\n",
       "        [0., 0.],\n",
       "        [0., 0.],\n",
       "        [0., 0.],\n",
       "        [0., 0.],\n",
       "        [0., 0.],\n",
       "        [0., 0.],\n",
       "        [1., 1.],\n",
       "        [1., 1.],\n",
       "        [1., 1.],\n",
       "        [1., 1.],\n",
       "        [1., 1.],\n",
       "        [1., 1.],\n",
       "        [1., 1.],\n",
       "        [1., 1.],\n",
       "        [1., 1.],\n",
       "        [1., 1.],\n",
       "        [1., 1.],\n",
       "        [1., 1.],\n",
       "        [1., 1.],\n",
       "        [1., 1.],\n",
       "        [1., 1.],\n",
       "        [1., 1.],\n",
       "        [1., 1.],\n",
       "        [1., 1.],\n",
       "        [1., 1.],\n",
       "        [1., 1.],\n",
       "        [1., 1.],\n",
       "        [1., 1.],\n",
       "        [1., 1.],\n",
       "        [1., 1.],\n",
       "        [1., 1.],\n",
       "        [1., 1.],\n",
       "        [1., 1.],\n",
       "        [1., 1.],\n",
       "        [1., 1.],\n",
       "        [0., 1.],\n",
       "        [1., 1.],\n",
       "        [1., 1.],\n",
       "        [1., 1.],\n",
       "        [0., 1.],\n",
       "        [0., 1.],\n",
       "        [1., 1.],\n",
       "        [1., 1.],\n",
       "        [1., 1.],\n",
       "        [1., 1.],\n",
       "        [1., 1.],\n",
       "        [1., 1.],\n",
       "        [1., 1.],\n",
       "        [1., 1.],\n",
       "        [1., 1.],\n",
       "        [1., 1.],\n",
       "        [1., 1.],\n",
       "        [1., 1.],\n",
       "        [1., 1.],\n",
       "        [1., 1.],\n",
       "        [1., 1.]])"
      ]
     },
     "execution_count": 13,
     "metadata": {},
     "output_type": "execute_result"
    }
   ],
   "source": [
    "np.matrix([np.around(predict(theta, X)), Y]).T"
   ]
  },
  {
   "cell_type": "code",
   "execution_count": 14,
   "metadata": {},
   "outputs": [
    {
     "name": "stdout",
     "output_type": "stream",
     "text": [
      "[-0.66556365, -1.46787087, -0.21254648, -0.14877584, 2.22796437]\n",
      "[-0.64060574 -1.30342194 -0.1383162  -0.01018059  2.27853782]\n",
      "[-0.61748925 -1.15031162 -0.06949233  0.11905085  2.32554315]\n",
      "[-0.60170039 -1.04361228 -0.0223377   0.21010413  2.35839863]\n",
      "[-0.59215367 -0.976766    0.00646909  0.26879647  2.37966682]\n",
      "[-0.58609841 -0.93222441  0.02507237  0.30955238  2.39465883]\n",
      "[-0.58307367 -0.90701291  0.03485695  0.33487719  2.40433023]\n",
      "[-0.58110764 -0.88854865  0.04156872  0.35483508  2.41216599]\n",
      "[-0.58086399 -0.88103969  0.04329231  0.36611758  2.41705358]\n",
      "[-0.58050419 -0.87280193  0.04535081  0.37796395  2.42212999]\n",
      "[-0.5814885  -0.87310054  0.04352475  0.38307403  2.42493032]\n",
      "[-0.58169139 -0.86845176  0.04395459  0.39206758  2.42903823]\n",
      "[-0.58328753 -0.8726441   0.04036152  0.39409637  2.43079873]\n",
      "[-0.58359773 -0.86869327  0.04047942  0.40251788  2.43470969]\n",
      "[-0.5855823  -0.87536182  0.03576477  0.40258209  2.4358073 ]\n",
      "[-0.5857782  -0.8707027   0.03621111  0.41153986  2.43989558]\n",
      "[-0.58809745 -0.87950576  0.03053043  0.4099096   2.44042187]\n",
      "[-0.58804482 -0.87328608  0.03169336  0.42007608  2.44491485]\n",
      "[-0.59072438 -0.88438436  0.02497342  0.41662763  2.44482936]\n",
      "[-0.59031495 -0.87591578  0.02716647  0.42854736  2.4499118 ]\n",
      "[-0.59342395 -0.88974445  0.01920906  0.42294304  2.44910287]\n",
      "[-0.59254906 -0.8783353   0.02274735  0.43716492  2.45496184]\n",
      "[-0.59618609 -0.89551421  0.01327016  0.42892461  2.45327102]\n",
      "[-0.59472583 -0.88039992  0.01850212  0.44605757  2.46011514]\n",
      "[-0.59901235 -0.90169134  0.00715789  0.43459306  2.45734916]\n",
      "[-0.59683315 -0.88201864  0.01447256  0.45531949  2.46541369]\n",
      "[-6.01907270e-01 -9.08286434e-01  8.67658084e-04  4.39967974e-01\n",
      "  2.46135621e+00]\n",
      "[-0.59886685 -0.88314454  0.01068057  0.46502017  2.47089574]\n",
      "[-0.60487237 -0.91528387 -0.00559313  0.44510065  2.46532658]\n",
      "[-0.60083357 -0.8837923   0.0071202   0.47519192  2.47659215]\n",
      "[-0.60790079 -0.9226079  -0.01218952  0.45010067  2.46931905]\n",
      "[-0.60275544 -0.88406912  0.00374359  0.48580346  2.48251643]\n",
      "[-0.61097319 -0.93010007 -0.01884869  0.45514871  2.47341893]\n",
      "[-6.04672872e-01 -8.84197179e-01  4.50601254e-04  4.96734582e-01\n",
      "  2.48865250e+00]\n",
      "[-0.614058   -0.93752872 -0.02546425  0.46047727  2.47772654]\n",
      "[-0.60664033 -0.88449543 -0.00290329  0.50777648  2.49494816]\n",
      "[-0.61711905 -0.94464751 -0.03192308  0.4663087   2.48232937]\n",
      "[-0.60871279 -0.88530247 -0.00647233  0.51867739  2.50132362]\n",
      "[-0.62012819 -0.95128274 -0.03814567  0.47277436  2.48726945]\n",
      "[-0.61092834 -0.88687093 -0.01037267  0.52921871  2.50769437]\n",
      "[-0.6230745  -0.95739026 -0.04411247  0.47987066  2.49252854]\n",
      "[-0.61329819 -0.88930015 -0.01465147  0.5392744   2.51399481]\n",
      "[-0.62596335 -0.9630407  -0.04985713  0.48748383  2.49804212]\n",
      "[-0.61580924 -0.89254372 -0.01928972  0.54882048  2.52018885]\n",
      "[-0.62880811 -0.96835676 -0.05543753  0.49545576  2.50372906]\n",
      "[-0.61843453 -0.89646668 -0.02422782  0.55790474  2.52626631]\n",
      "[-0.63162209 -0.97345536 -0.06090874  0.50364113  2.50951621]\n",
      "[-0.6211437  -0.90090657 -0.0293931   0.56660701  2.53223296]\n",
      "[-0.63441467 -0.97842082 -0.0663106   0.51193269  2.51534893]\n",
      "[-0.62390946 -0.90571293 -0.0347179   0.57501006  2.5381013 ]\n",
      "[-0.63719104 -0.98330369 -0.07166705  0.5202618   2.5211911 ]\n"
     ]
    }
   ],
   "source": [
    "lr = 0.05\n",
    "theta = []\n",
    "theta = [-0.66556365, -1.46787087, -0.21254648, -0.14877584,  2.22796437]\n",
    "vel_pred = np.zeros(5)\n",
    "vel = np.zeros(5)\n",
    "print(theta)\n",
    "nest_loss_hist = []\n",
    "gamma = 0.975\n",
    "for _ in range(50):\n",
    "    sigm = predict(theta, X)\n",
    "    loss = - np.mean(np.log(sigm) * Y + np.log(1 - sigm) * (1 - Y))\n",
    "    nest_loss_hist.append(loss)\n",
    "    \n",
    "    sigm = predict(theta - gamma * vel_pred, X)\n",
    "    \n",
    "    vel[0] = (gamma * vel_pred[0] + lr * np.sum(sigm - Y))/len(sigm)\n",
    "    vel[1] = (gamma * vel_pred[1] + lr * np.sum((sigm - Y) * X[:, 0]))/len(sigm)\n",
    "    vel[2] = (gamma * vel_pred[2] + lr * np.sum((sigm - Y) * X[:, 1]))/len(sigm)\n",
    "    vel[3] = (gamma * vel_pred[3] + lr * np.sum((sigm - Y) * X[:, 2]))/len(sigm)\n",
    "    vel[4] = (gamma * vel_pred[4] + lr * np.sum((sigm - Y) * X[:, 3]))/len(sigm)\n",
    "    theta -= vel\n",
    "    print(theta)\n",
    "\n",
    "    vel_pred = vel"
   ]
  },
  {
   "cell_type": "code",
   "execution_count": 15,
   "metadata": {},
   "outputs": [
    {
     "data": {
      "text/plain": [
       "[3.6409214614271534,\n",
       " 2.5457892818334145,\n",
       " 1.5556278274797453,\n",
       " 0.9422777297636452,\n",
       " 0.6420694899477054,\n",
       " 0.500901602522372,\n",
       " 0.4460180731379241,\n",
       " 0.4191186017906219,\n",
       " 0.4105742555113024,\n",
       " 0.40454462759607407,\n",
       " 0.40329600197681337,\n",
       " 0.40123694807000665,\n",
       " 0.40090282174842673,\n",
       " 0.3997696568335648,\n",
       " 0.3994257863978391,\n",
       " 0.39860050222575,\n",
       " 0.3981760321264581,\n",
       " 0.39750458857609056,\n",
       " 0.3970378796631824,\n",
       " 0.3964800411711137,\n",
       " 0.3960088479995993,\n",
       " 0.39557151383314476,\n",
       " 0.3951209619691899,\n",
       " 0.3948480266784981,\n",
       " 0.3944266945243068,\n",
       " 0.3944051727825464,\n",
       " 0.3939918392053947,\n",
       " 0.3943652254235456,\n",
       " 0.39387949586307724,\n",
       " 0.3948615451490454,\n",
       " 0.39411708480675484,\n",
       " 0.39599411286148417,\n",
       " 0.39464966612682645,\n",
       " 0.39775551537013093,\n",
       " 0.39530774627775783,\n",
       " 0.39996323504039166,\n",
       " 0.3958364778053483,\n",
       " 0.402267384718698,\n",
       " 0.3959979510872948,\n",
       " 0.40426557019734893,\n",
       " 0.3956767551748609,\n",
       " 0.4056540568664965,\n",
       " 0.3949022524227391,\n",
       " 0.40630735977167554,\n",
       " 0.3937887133481244,\n",
       " 0.4062576529970457,\n",
       " 0.3924621081743202,\n",
       " 0.40562509101280314,\n",
       " 0.3910200582083369,\n",
       " 0.4045537807781484]"
      ]
     },
     "execution_count": 15,
     "metadata": {},
     "output_type": "execute_result"
    }
   ],
   "source": [
    "nest_loss_hist"
   ]
  },
  {
   "cell_type": "code",
   "execution_count": 16,
   "metadata": {},
   "outputs": [
    {
     "data": {
      "text/plain": [
       "9"
      ]
     },
     "execution_count": 16,
     "metadata": {},
     "output_type": "execute_result"
    }
   ],
   "source": [
    "err = 0\n",
    "for idx, item in enumerate(np.around(predict(theta, X))):\n",
    "    if item != Y[idx]:\n",
    "        err += 1\n",
    "err"
   ]
  },
  {
   "cell_type": "code",
   "execution_count": 17,
   "metadata": {},
   "outputs": [
    {
     "name": "stdout",
     "output_type": "stream",
     "text": [
      "[-0.66556365, -1.46787087, -0.21254648, -0.14877584, 2.22796437]\n",
      "[-0.34933614 -1.15164311  0.10368126  0.16745192  2.54419207]\n",
      "[-0.16077533 -0.96093263  0.29244678  0.35893109  2.73427886]\n",
      "[-0.25258567 -1.03969356  0.20658598  0.2954148   2.68090882]\n",
      "[-0.22680153 -1.00515914  0.23490278  0.33764993  2.72500375]\n",
      "[-0.26122213 -1.0287893   0.20446711  0.32523428  2.71815044]\n",
      "[-0.26161493 -1.01945139  0.20721873  0.34379146  2.74002555]\n",
      "[-0.28170276 -1.0291252   0.19076297  0.34455636  2.74538331]\n",
      "[-0.2901499  -1.02745615  0.18568987  0.35602546  2.76068623]\n",
      "[-0.3058382  -1.03274732  0.17356391  0.36102689  2.77000689]\n",
      "[-0.31710616 -1.03368434  0.16577744  0.37017582  2.78318959]\n",
      "[-0.33135471 -1.03745367  0.15509789  0.37673227  2.79398801]\n",
      "[-0.34376812 -1.03937522  0.14623372  0.38508472  2.8064672 ]\n",
      "[-0.35756004 -1.04257494  0.13604164  0.39230268  2.81791386]\n",
      "[-0.3705326  -1.04491332  0.12667243  0.40039129  2.83018323]\n",
      "[-0.3842253  -1.04789052  0.11661896  0.40794481  2.84197498]\n",
      "[-0.39753351 -1.05042946  0.10696317  0.41597209  2.85422139]\n",
      "[-0.41126792 -1.05332158  0.09691072  0.42373181  2.86623737]\n",
      "[-0.42481923 -1.0559718   0.08705894  0.43178101  2.87853699]\n",
      "[-0.43865513 -1.05883763  0.07694915  0.43969131  2.89072469]\n",
      "[-0.45240795 -1.06155937  0.06694219  0.44779918  2.90311055]\n",
      "[-0.46637238 -1.06442593  0.05674876  0.45583421  2.91544503]\n",
      "[-0.48030637 -1.06720013  0.04660665  0.46401806  2.92793211]\n",
      "[-0.49441217 -1.07008071  0.03631712  0.47216477  2.9404003 ]\n",
      "[-0.50851644 -1.07289754  0.02605066  0.48043321  2.95299553]\n",
      "[-0.52276996 -1.07579913  0.01565896  0.48868443  2.96558975]\n",
      "[-0.53703803 -1.07865307  0.00527464  0.49704197  2.97829625]\n",
      "[-0.55144246 -1.08157964 -0.00522221  0.50539333  2.99101141]\n",
      "[-0.56586996 -1.08446729 -0.01571995  0.51384248  3.00383044]\n",
      "[-0.58042696 -1.08742135 -0.02632342  0.52229094  3.0166627 ]\n",
      "[-0.59501054 -1.09034031 -0.0369311   0.53083322  3.0295946 ]\n",
      "[-0.60972101 -1.09332368 -0.04764193  0.53937634  3.04254064]\n",
      "[-0.62445768 -1.09627194 -0.05835643  0.54801289  3.05558538]\n",
      "[-0.63932235 -1.09928628 -0.06917514  0.55664834  3.068642  ]\n",
      "[-0.65420905 -1.10226177 -0.07999325  0.5653803   3.08179953]\n",
      "[-0.66922884 -1.10530901 -0.09092056  0.57410553  3.09496331]\n",
      "[-0.68426203 -1.1083092  -0.10183857  0.58293445  3.10823398]\n",
      "[-0.69943855 -1.11139199 -0.11287588  0.59174615  3.12150083]\n",
      "[-0.7146136  -1.11441326 -0.12388897  0.60067455  3.13488583]\n",
      "[-0.72994994 -1.11753574 -0.13503913  0.60956804  3.1482504 ]\n",
      "[-0.74526016 -1.12057242 -0.1461404   0.61860033  3.16175264]\n",
      "[-0.76076219 -1.12374159 -0.15740901  0.62756824  3.17520717]\n",
      "[-0.77619698 -1.12678406 -0.16858765  0.63671246  3.18883286]\n",
      "[-0.79187593 -1.13001236 -0.17998566  0.64574236  3.20236499]\n",
      "[-0.80741718 -1.13304341 -0.19122331  0.65501356  3.21612667]\n",
      "[-0.82329482 -1.136354   -0.2027722   0.66408309  3.22971507]\n",
      "[-0.83890943 -1.1393412  -0.2140355   0.67351038  3.243638  ]\n",
      "[-0.85502896 -1.14277901 -0.22577813  0.68257699  3.25724311]\n",
      "[-0.87065282 -1.14565839 -0.23700263  0.69221866  3.27137891]\n",
      "[-0.8871027  -1.1493145  -0.24902724  0.70119712  3.28492264]\n",
      "[-0.90260483 -1.15195395 -0.26008145  0.71117442  3.29937975]\n"
     ]
    }
   ],
   "source": [
    "lr = 0.05\n",
    "theta = []\n",
    "theta = [-0.66556365, -1.46787087, -0.21254648, -0.14877584,  2.22796437]\n",
    "e_sq_grad = np.zeros(5)\n",
    "grad = np.zeros(5)\n",
    "print(theta)\n",
    "rmsp_loss_hist = []\n",
    "gamma = 0.975\n",
    "eps = 0.00000001\n",
    "for _ in range(50):\n",
    "    sigm = predict(theta, X)\n",
    "    loss = - np.mean(np.log(sigm) * Y + np.log(1 - sigm) * (1 - Y))\n",
    "    rmsp_loss_hist.append(loss)\n",
    "    grad[0] = np.sum(sigm - Y)/len(sigm)\n",
    "    grad[1] = np.sum((sigm - Y) * X[:, 0])/len(sigm)\n",
    "    grad[2] = np.sum((sigm - Y) * X[:, 1])/len(sigm)\n",
    "    grad[3] = np.sum((sigm - Y) * X[:, 2])/len(sigm)\n",
    "    grad[4] = np.sum((sigm - Y) * X[:, 3])/len(sigm)\n",
    "    \n",
    "    e_sq_grad = gamma * e_sq_grad + (1 - gamma)  * grad ** 2\n",
    "    \n",
    "    theta -= lr * grad / np.sqrt(e_sq_grad + eps)\n",
    "    print(theta)"
   ]
  },
  {
   "cell_type": "code",
   "execution_count": 18,
   "metadata": {},
   "outputs": [
    {
     "data": {
      "text/plain": [
       "[3.6409214614271534,\n",
       " 0.9263194246062176,\n",
       " 0.4787813458939235,\n",
       " 0.42243607836516484,\n",
       " 0.41041068849719037,\n",
       " 0.40511782937667745,\n",
       " 0.40218450218700147,\n",
       " 0.3998814071764326,\n",
       " 0.39779702129256905,\n",
       " 0.3957831352148684,\n",
       " 0.39379510344043145,\n",
       " 0.3918166314683673,\n",
       " 0.3898421698383812,\n",
       " 0.38786967093813246,\n",
       " 0.3858984572556326,\n",
       " 0.38392835806987236,\n",
       " 0.3819594100995136,\n",
       " 0.379991736198911,\n",
       " 0.37802549485961606,\n",
       " 0.37606086150725526,\n",
       " 0.3740980175191002,\n",
       " 0.37213714776999013,\n",
       " 0.37017843715112925,\n",
       " 0.36822207088137465,\n",
       " 0.36626823279824977,\n",
       " 0.36431710609524615,\n",
       " 0.36236887215409275,\n",
       " 0.36042371129762946,\n",
       " 0.3584818018272618,\n",
       " 0.35654332074631134,\n",
       " 0.3546084428753333,\n",
       " 0.3526773415742264,\n",
       " 0.3507501878633565,\n",
       " 0.3488271511914137,\n",
       " 0.3469083985022927,\n",
       " 0.34499409511033385,\n",
       " 0.343084403646772,\n",
       " 0.3411794851311909,\n",
       " 0.33927949771328414,\n",
       " 0.33738459808718363,\n",
       " 0.33549493992130935,\n",
       " 0.3336106758956341,\n",
       " 0.33173195572232717,\n",
       " 0.32985892943790984,\n",
       " 0.32799174515238916,\n",
       " 0.32613055532381824,\n",
       " 0.3242755157618614,\n",
       " 0.3224268006300419,\n",
       " 0.32058461133138033,\n",
       " 0.3187492229434728]"
      ]
     },
     "execution_count": 18,
     "metadata": {},
     "output_type": "execute_result"
    }
   ],
   "source": [
    "rmsp_loss_hist"
   ]
  },
  {
   "cell_type": "code",
   "execution_count": 19,
   "metadata": {},
   "outputs": [
    {
     "data": {
      "text/plain": [
       "7"
      ]
     },
     "execution_count": 19,
     "metadata": {},
     "output_type": "execute_result"
    }
   ],
   "source": [
    "err = 0\n",
    "for idx, item in enumerate(np.around(predict(theta, X))):\n",
    "    if item != Y[idx]:\n",
    "        err += 1\n",
    "err"
   ]
  },
  {
   "cell_type": "code",
   "execution_count": 20,
   "metadata": {},
   "outputs": [
    {
     "data": {
      "image/png": "[encoded data removed]",
      "text/plain": [
       "<Figure size 460.8x403.2 with 1 Axes>"
      ]
     },
     "metadata": {},
     "output_type": "display_data"
    }
   ],
   "source": [
    "plt.plot(range(50), grad_loss_hist, label='Gradient loss' )\n",
    "plt.plot(range(50), nest_loss_hist, label='Nesterov momentum loss' )\n",
    "plt.plot(range(50), rmsp_loss_hist, label='RMSProp loss' )\n",
    "plt.title('Compare losses')\n",
    "plt.xlabel('$Step$', fontsize=15)\n",
    "plt.ylabel('$Loss$', fontsize=15)\n",
    "plt.legend()\n",
    "plt.show()"
   ]
  }
 ],
 "metadata": {
  "kernelspec": {
   "display_name": "Python 3",
   "language": "python",
   "name": "python3"
  },
  "language_info": {
   "codemirror_mode": {
    "name": "ipython",
    "version": 3
   },
   "file_extension": ".py",
   "mimetype": "text/x-python",
   "name": "python",
   "nbconvert_exporter": "python",
   "pygments_lexer": "ipython3",
   "version": "3.8.5"
  }
 },
 "nbformat": 4,
 "nbformat_minor": 4
}
